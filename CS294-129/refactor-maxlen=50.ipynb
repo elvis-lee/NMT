{
 "cells": [
  {
   "cell_type": "markdown",
   "metadata": {},
   "source": [
    "## Import"
   ]
  },
  {
   "cell_type": "code",
   "execution_count": 1,
   "metadata": {},
   "outputs": [],
   "source": [
    "import torch \n",
    "import torch.nn as nn\n",
    "from torch.autograd import Variable\n",
    "import torch.nn.functional as F\n",
    "import os\n",
    "from torch import optim\n",
    "from torch.nn.utils.rnn import pad_sequence\n",
    "from torch.nn.utils.rnn import pack_sequence\n",
    "from torch.nn.utils.rnn import pack_padded_sequence\n",
    "from torch.nn.utils.rnn import pad_packed_sequence\n",
    "import numpy as np\n",
    "import matplotlib.pyplot as plt"
   ]
  },
  {
   "cell_type": "code",
   "execution_count": 2,
   "metadata": {},
   "outputs": [],
   "source": [
    "from nmt.model import EncoderLSTM, DecoderLSTM, DotAttenDecoderLSTM\n",
    "from nmt.train import train, trainIters\n",
    "from nmt.infer import infer\n",
    "from nmt.eval import eval\n",
    "from nmt.utils import BatchGenerator"
   ]
  },
  {
   "cell_type": "markdown",
   "metadata": {},
   "source": [
    "## Data Setup"
   ]
  },
  {
   "cell_type": "code",
   "execution_count": 3,
   "metadata": {},
   "outputs": [],
   "source": [
    "MAX_LENGTH = 50"
   ]
  },
  {
   "cell_type": "code",
   "execution_count": 4,
   "metadata": {},
   "outputs": [],
   "source": [
    "# set data path\n",
    "data_dir = os.path.join('datasets', 'nmt_data_vi')\n",
    "train_source = 'train.vi'\n",
    "train_target = 'train.en'\n",
    "train_source_dir = os.path.join(data_dir, train_source)\n",
    "train_target_dir = os.path.join(data_dir, train_target)\n",
    "\n",
    "test_source = 'tst2012.vi'\n",
    "test_target = 'tst2012.en'\n",
    "test_source_dir = os.path.join(data_dir, test_source)\n",
    "test_target_dir = os.path.join(data_dir, test_target)\n",
    "\n",
    "vocab_source = 'vocab.vi'\n",
    "vocab_target = 'vocab.en'\n",
    "vocab_source_dir = os.path.join(data_dir, vocab_source)\n",
    "vocab_target_dir = os.path.join(data_dir, vocab_target)"
   ]
  },
  {
   "cell_type": "code",
   "execution_count": 5,
   "metadata": {},
   "outputs": [
    {
     "name": "stdout",
     "output_type": "stream",
     "text": [
      "Total number of sentences in source training set: 133317\n",
      "Total number of sentences in target training set: 133317\n",
      "Total number of sentences in source testing set: 1553\n",
      "Total number of sentences in target testing set: 1553\n"
     ]
    }
   ],
   "source": [
    "# load training sets\n",
    "with open(train_source_dir) as f_source:\n",
    "    sentences_source = f_source.readlines()\n",
    "with open(train_target_dir) as f_target:\n",
    "    sentences_target = f_target.readlines()\n",
    "\n",
    "# check the total number of sentencs in training sets    \n",
    "print(\"Total number of sentences in source training set: {}\".format(len(sentences_source)))\n",
    "print(\"Total number of sentences in target training set: {}\".format(len(sentences_target)))\n",
    "\n",
    "# load testing sets\n",
    "with open(test_source_dir) as f_source:\n",
    "    test_source = f_source.readlines()\n",
    "with open(test_target_dir) as f_target:\n",
    "    test_target = f_target.readlines()\n",
    "\n",
    "# check the total number of sentencs in training sets    \n",
    "print(\"Total number of sentences in source testing set: {}\".format(len(test_source)))\n",
    "print(\"Total number of sentences in target testing set: {}\".format(len(test_target)))"
   ]
  },
  {
   "cell_type": "code",
   "execution_count": 6,
   "metadata": {},
   "outputs": [
    {
     "name": "stdout",
     "output_type": "stream",
     "text": [
      "Number of words in the longest sentence in sentences_source: 3199\n",
      "The longest sentence: \n",
      "Thula Mama , Thula Mama , Thula Mama , Thula Mama . Trong kí ức tuổi thơ con , qua những giọt lệ nhoè mắt bà , con thấy chân lý trong nụ cười của bà , con thấy chân lý trong nụ cười của bà , xuyên thấu màn đêm u tối trong sự vô tri của con . Ôi , có một người bà đang nằm nghỉ bà ốm đau và trái tim bà rơi lệ . Băn khoăn , băn khoăn , băn khoăn , băn khoăn liệu thế giới này đang đi về đâu . Lẽ nào chuyện trẻ nhỏ phải tự xoay xở lấy là đúng ? Không , không , không , không , không , không . Lẽ nào phiền muộn dồn hết lên mái đầu người phụ nữ già là đúng ? Những người vô danh bất hạnh . Thula Mama Mama , Thula Mama . Thula Mama Mama . Thula Mama , Thula Mama , Thula Mama Mama , Thula Mama . Ngày mai sẽ tốt đẹp hơn . Ngày mai trèo đèo lội suối sẽ dễ hơn , bà ơi . Thula Mama , Thula Mama . Tôi có nên tan vào bài hát này như người đàn ông hát nhạc blues hay một người hát rong . Và rồi từ rất xa , không phải trong câu lạc bộ nhạc blues nào hết , tôi hát , bé ơi , bé ơi , bé ơi , bé ơi , bé ơi , bé ơi , bé ơi , bé ơi , bé ơi , bé ơi , bé ơi , bé ơi . Bây giờ tôi có nên ngừng hát về tình yêu khi kí ức tôi đã nhuộm đầy máu ? Chị em ơi , ồ tại sao có khi ta lại tưởng lầm mụn nhọt là ung thư ? Thế thì , ai lại đi nói , giờ đây không còn bài thơ tình nào nữa ? Tôi muốn hát một bản tình ca cho người phụ nữ có thai đã dám nhảy qua hàng rào và vẫn sinh ra em bé khoẻ mạnh . Nhẹ nhàng thôi , tôi đi vào tia nắng của nụ cười sẽ đốt bùng lên bản tình ca của tôi , bài ca của tôi về cuộc đời , bài ca của tôi về tình yêu , bài ca của tôi về cuộc đời , bài ca của tôi về tình yêu , bài ca của tôi về cuộc đời , bài ca của tôi về tình yêu , bài ca của tôi về cuộc đời . Ooh , tôi chưa từng cố chạy trốn những bài ca , tôi nghe tiếng gọi da diết , mạnh mẽ hơn bom đạn kẻ thù . Bài ca rửa sạch cuộc đời ta và những cơn mưa dòng máu ta . Bài ca của tôi về tình yêu và bài ca của tôi về cuộc đời , bài ca của tôi về tình yêu , bài ca của tôi về cuộc đời , bài ca của tôi về tình yêu , bài ca của tôi về cuộc đời , bài ca của tôi về tình yêu -- tôi muốn mọi người cùng hát với tôi nào -- bài ca của tôi về cuộc đời , bài ca của tôi về tình yêu , bài ca của tôi về cuộc đời -- mọi người cùng hát với tôi đi -- bài ca của tôi về cuộc đời , bài ca của tôi về tình yêu -- tôi không nghe thấy tiếng các bạn -- bài ca của tôi về cuộc đời , bài ca của tôi về tình yêu -- tôi biết bạn hát to hơn được mà -- bài ca của tôi về cuộc đời , bài ca của tôi về tình yêu -- hát nữa , hát nữa nào -- bài ca của tôi về cuộc đời , bài ca của tôi về tình yêu , vâng , bài ca của tôi về tình yêu -- các bạn hát to hơn được nữa mà -- bài ca của tôi về cuộc đời , chính nó , bài ca của tôi về tình yêu , bài ca của tôi về cuộc đời , bài ca của tôi về tình yêu -- cứ hát đi , hát đi , hát lên đi -- bài ca của tôi về tình yêu . Oh yeah . Bài ca -- một bản tình ca , bài ca của tôi về cuộc đời . Hát nào . Một bản tình ca , bài ca của tôi về cuộc đời . Hát lên . Một bản tình ca , bài ca của tôi về cuộc đời . Hát nào . Một bản tình ca , bài ca của tôi cuộc đời . Hát lên . Một bản tình ca , bài ca của tôi về cuộc đời . Hát nào . Một bản tình ca , bài ca của tôi cuộc đời . Một bản tình ca , bài ca của tôi về cuộc đời . Hát lên .\n",
      "\n"
     ]
    }
   ],
   "source": [
    "# check the longest sentence after sentence truncation\n",
    "max = 0\n",
    "for s in sentences_source:\n",
    "    if len(s) > max:\n",
    "        max = len(s)\n",
    "        max_s = s\n",
    "print(\"Number of words in the longest sentence in sentences_source: {}\".format(max))\n",
    "print(\"The longest sentence: \\n{}\".format(max_s))"
   ]
  },
  {
   "cell_type": "code",
   "execution_count": 7,
   "metadata": {},
   "outputs": [],
   "source": [
    "# Truncate sentences by maximum length\n",
    "sentences_source = list(map(lambda src:src.split()[:MAX_LENGTH], sentences_source))\n",
    "sentences_target = list(map(lambda src:src.split()[:MAX_LENGTH], sentences_target))\n",
    "test_source = list(map(lambda src:src.split()[:MAX_LENGTH], test_source))\n",
    "test_target = list(map(lambda src:src.split()[:MAX_LENGTH], test_target))"
   ]
  },
  {
   "cell_type": "code",
   "execution_count": 8,
   "metadata": {},
   "outputs": [
    {
     "name": "stdout",
     "output_type": "stream",
     "text": [
      "133166\n",
      "133166\n",
      "1553\n",
      "1553\n"
     ]
    }
   ],
   "source": [
    "# Delete empty sentences in source and target\n",
    "i = 0\n",
    "while i < len(sentences_source):\n",
    "    if sentences_source[i]==[] or sentences_target[i]==[]:\n",
    "        del sentences_source[i]\n",
    "        del sentences_target[i]\n",
    "        i -= 1\n",
    "    i += 1\n",
    "print(len(sentences_source))\n",
    "print(len(sentences_target))\n",
    "\n",
    "i = 0\n",
    "while i < len(sentences_source):\n",
    "    if sentences_source[i]==[] or sentences_target[i]==[]:\n",
    "        del test_source[i]\n",
    "        del test_target[i]\n",
    "        i -= 1\n",
    "    i += 1\n",
    "print(len(test_source))\n",
    "print(len(test_target))"
   ]
  },
  {
   "cell_type": "code",
   "execution_count": 9,
   "metadata": {},
   "outputs": [
    {
     "name": "stdout",
     "output_type": "stream",
     "text": [
      "Total nummber of words in source vocabulary: 7709\n",
      "Total nummber of words in target vocabulary: 17191\n"
     ]
    }
   ],
   "source": [
    "# load vocabularies\n",
    "\n",
    "# build index2word\n",
    "with open(vocab_source_dir) as f_vocab_source:\n",
    "    #index2word_source = f_vocab_source.readlines()\n",
    "    index2word_source = [line.rstrip() for line in f_vocab_source]\n",
    "with open(vocab_target_dir) as f_vocab_target:\n",
    "    #index2word_target = f_vocab_target.readlines()\n",
    "    index2word_target = [line.rstrip() for line in f_vocab_target]\n",
    "\n",
    "# build word2index\n",
    "word2index_source = {}\n",
    "for idx, word in enumerate(index2word_source):\n",
    "    word2index_source[word] = idx\n",
    "word2index_target = {}\n",
    "for idx, word in enumerate(index2word_target):\n",
    "    word2index_target[word] = idx\n",
    "    \n",
    "# check vocabularies size    \n",
    "source_vocab_size = len(index2word_source)\n",
    "target_vocab_size = len(index2word_target)\n",
    "print(\"Total nummber of words in source vocabulary: {}\".format(len(index2word_source)))\n",
    "print(\"Total nummber of words in target vocabulary: {}\".format(len(index2word_target)))    "
   ]
  },
  {
   "cell_type": "markdown",
   "metadata": {},
   "source": [
    "## Parameters Setup"
   ]
  },
  {
   "cell_type": "code",
   "execution_count": 10,
   "metadata": {},
   "outputs": [],
   "source": [
    "# misc\n",
    "device = torch.device(\"cuda\" if torch.cuda.is_available() else \"cpu\")\n",
    "\n",
    "# encoder & decoder init\n",
    "input_size = source_vocab_size\n",
    "output_size = target_vocab_size+1 # +1 is a wordaround for ignore_index field of NLLLoss\n",
    "hidden_size = 512\n",
    "dropout = 0.2\n",
    "attention_vector_size = 256\n",
    "init_weight = 0.1\n",
    "\n",
    "# train & test & infer\n",
    "PAD_token = target_vocab_size # this padding token is ignored for loss calculation\n",
    "SOS_token = 1\n",
    "EOS_token = 2\n",
    "batch_size = 128\n",
    "max_norm = 1\n",
    "num_step = 10000"
   ]
  },
  {
   "cell_type": "markdown",
   "metadata": {},
   "source": [
    "## Training"
   ]
  },
  {
   "cell_type": "code",
   "execution_count": 11,
   "metadata": {},
   "outputs": [],
   "source": [
    "batch_generator_train = BatchGenerator(batch_size, sentences_source, sentences_target, word2index_source, word2index_target, EOS_token, device)\n",
    "batch_generator_test = BatchGenerator(batch_size, test_source, test_target, word2index_source, word2index_target, EOS_token, device)\n",
    "\n",
    "encoder1 = EncoderLSTM(input_size, hidden_size, dropout=dropout, init_weight=init_weight).to(device)\n",
    "decoder1 = DotAttenDecoderLSTM(hidden_size, output_size, attention_vector_size, dropout=dropout, init_weight=init_weight).to(device) \n",
    "\n",
    "bleu_params = {}\n",
    "bleu_params['sentences_source'] = test_source\n",
    "bleu_params['sentences_ref'] = test_target\n",
    "bleu_params['max_length'] = MAX_LENGTH\n",
    "bleu_params['word2index_source'] = word2index_source\n",
    "bleu_params['word2index_target'] = word2index_target\n",
    "bleu_params['index2word_target'] = index2word_target\n",
    "bleu_params['EOS_token'] = EOS_token"
   ]
  },
  {
   "cell_type": "code",
   "execution_count": 12,
   "metadata": {},
   "outputs": [
    {
     "name": "stdout",
     "output_type": "stream",
     "text": [
      "(step:100 1%) loss_train:6.3668, loss_test:5.5764\n",
      "(step:200 2%) loss_train:5.6223, loss_test:5.1875\n",
      "(step:300 3%) loss_train:5.3107, loss_test:4.9554\n",
      "(step:400 4%) loss_train:5.1231, loss_test:4.7585\n",
      "(step:500 5%) loss_train:4.9947, loss_test:4.7120\n",
      "(step:600 6%) loss_train:4.8572, loss_test:4.4960\n",
      "(step:700 7%) loss_train:4.7253, loss_test:4.6057\n",
      "(step:800 8%) loss_train:4.6021, loss_test:4.3918\n",
      "(step:900 9%) loss_train:4.5224, loss_test:4.3564\n",
      "(step:1000 10%) loss_train:4.4573, loss_test:4.2447\n",
      "epoch: 1\n",
      "bleu_test:0.04002894877038484\n",
      "(step:1100 11%) loss_train:4.3326, loss_test:4.4336\n",
      "(step:1200 12%) loss_train:4.2650, loss_test:4.0696\n",
      "(step:1300 13%) loss_train:4.2305, loss_test:4.0060\n",
      "(step:1400 14%) loss_train:4.1852, loss_test:4.0218\n",
      "(step:1500 15%) loss_train:4.1604, loss_test:3.8712\n",
      "(step:1600 16%) loss_train:4.1120, loss_test:3.9946\n",
      "(step:1700 17%) loss_train:4.0857, loss_test:3.8527\n",
      "(step:1800 18%) loss_train:4.0616, loss_test:3.9295\n",
      "(step:1900 19%) loss_train:4.0195, loss_test:3.6609\n",
      "(step:2000 20%) loss_train:4.0015, loss_test:3.8356\n",
      "epoch: 2\n",
      "bleu_test:0.05951064559809963\n",
      "(step:2100 21%) loss_train:3.9552, loss_test:3.8455\n",
      "(step:2200 22%) loss_train:3.8283, loss_test:3.7573\n",
      "(step:2300 23%) loss_train:3.8112, loss_test:3.6955\n",
      "(step:2400 24%) loss_train:3.8114, loss_test:3.7229\n",
      "(step:2500 25%) loss_train:3.7920, loss_test:3.6891\n",
      "(step:2600 26%) loss_train:3.7863, loss_test:3.5570\n",
      "(step:2700 27%) loss_train:3.7828, loss_test:3.6258\n",
      "(step:2800 28%) loss_train:3.7632, loss_test:3.5591\n",
      "(step:2900 28%) loss_train:3.7573, loss_test:3.6321\n",
      "(step:3000 30%) loss_train:3.7291, loss_test:3.7014\n",
      "epoch: 3\n",
      "bleu_test:0.07105948495372635\n",
      "(step:3100 31%) loss_train:3.7213, loss_test:3.6501\n",
      "(step:3200 32%) loss_train:3.5769, loss_test:3.6221\n",
      "(step:3300 33%) loss_train:3.5564, loss_test:3.4972\n",
      "(step:3400 34%) loss_train:3.5659, loss_test:3.5791\n",
      "(step:3500 35%) loss_train:3.5631, loss_test:3.5384\n",
      "(step:3600 36%) loss_train:3.5596, loss_test:3.6240\n",
      "(step:3700 37%) loss_train:3.5605, loss_test:3.6219\n",
      "(step:3800 38%) loss_train:3.5492, loss_test:3.5002\n",
      "(step:3900 39%) loss_train:3.5468, loss_test:3.4675\n",
      "(step:4000 40%) loss_train:3.5450, loss_test:3.4318\n",
      "epoch: 4\n",
      "bleu_test:0.07698554808152137\n",
      "(step:4100 41%) loss_train:3.5263, loss_test:3.4864\n",
      "(step:4200 42%) loss_train:3.4550, loss_test:3.5524\n",
      "(step:4300 43%) loss_train:3.3624, loss_test:3.4434\n",
      "(step:4400 44%) loss_train:3.3609, loss_test:3.4690\n",
      "(step:4500 45%) loss_train:3.3980, loss_test:3.5597\n",
      "(step:4600 46%) loss_train:3.3771, loss_test:3.2534\n",
      "(step:4700 47%) loss_train:3.3803, loss_test:3.4711\n",
      "(step:4800 48%) loss_train:3.3795, loss_test:3.4363\n",
      "(step:4900 49%) loss_train:3.3903, loss_test:3.6713\n",
      "(step:5000 50%) loss_train:3.3718, loss_test:3.3826\n",
      "epoch: 5\n",
      "bleu_test:0.08246113906789058\n",
      "(step:5100 51%) loss_train:3.3767, loss_test:3.3150\n",
      "(step:5200 52%) loss_train:3.3834, loss_test:3.2378\n",
      "(step:5300 53%) loss_train:3.2042, loss_test:3.4439\n",
      "(step:5400 54%) loss_train:3.2232, loss_test:3.3803\n",
      "(step:5500 55%) loss_train:3.2434, loss_test:3.4947\n",
      "(step:5600 56%) loss_train:3.2528, loss_test:3.3023\n",
      "(step:5700 56%) loss_train:3.2310, loss_test:3.2792\n",
      "(step:5800 57%) loss_train:3.2426, loss_test:3.4529\n",
      "(step:5900 59%) loss_train:3.2436, loss_test:3.4087\n",
      "(step:6000 60%) loss_train:3.2510, loss_test:3.4508\n",
      "epoch: 6\n",
      "bleu_test:0.08905986405074023\n",
      "(step:6100 61%) loss_train:3.2441, loss_test:3.4453\n",
      "(step:6200 62%) loss_train:3.2599, loss_test:3.3333\n",
      "(step:6300 63%) loss_train:3.1372, loss_test:3.3609\n",
      "(step:6400 64%) loss_train:3.0870, loss_test:3.3495\n",
      "(step:6500 65%) loss_train:3.1029, loss_test:3.3122\n",
      "(step:6600 66%) loss_train:3.1221, loss_test:3.4283\n",
      "(step:6700 67%) loss_train:3.1206, loss_test:3.3520\n",
      "(step:6800 68%) loss_train:3.1385, loss_test:3.3364\n",
      "(step:6900 69%) loss_train:3.1382, loss_test:3.4536\n",
      "(step:7000 70%) loss_train:3.1391, loss_test:3.4348\n",
      "epoch: 7\n",
      "bleu_test:0.08698995521472111\n",
      "(step:7100 71%) loss_train:3.1477, loss_test:3.2212\n",
      "(step:7200 72%) loss_train:3.1445, loss_test:3.2463\n",
      "(step:7300 73%) loss_train:3.1075, loss_test:3.2097\n",
      "(step:7400 74%) loss_train:2.9712, loss_test:3.5332\n",
      "(step:7500 75%) loss_train:2.9981, loss_test:3.3449\n",
      "(step:7600 76%) loss_train:3.0138, loss_test:3.3218\n",
      "(step:7700 77%) loss_train:3.0105, loss_test:3.2134\n",
      "(step:7800 78%) loss_train:3.0262, loss_test:3.3869\n",
      "(step:7900 79%) loss_train:3.0350, loss_test:3.2068\n",
      "(step:8000 80%) loss_train:3.0507, loss_test:3.3813\n",
      "epoch: 8\n",
      "bleu_test:0.08862918122345367\n",
      "(step:8100 81%) loss_train:3.0460, loss_test:3.3751\n",
      "(step:8200 82%) loss_train:3.0581, loss_test:3.3756\n",
      "(step:8300 83%) loss_train:3.0662, loss_test:3.3505\n",
      "(step:8400 84%) loss_train:2.9105, loss_test:3.2729\n",
      "(step:8500 85%) loss_train:2.9011, loss_test:3.1903\n",
      "(step:8600 86%) loss_train:2.9210, loss_test:3.4129\n",
      "(step:8700 87%) loss_train:2.9356, loss_test:3.3017\n",
      "(step:8800 88%) loss_train:2.9469, loss_test:3.3683\n",
      "(step:8900 89%) loss_train:2.9511, loss_test:3.4294\n",
      "(step:9000 90%) loss_train:2.9567, loss_test:3.2443\n",
      "epoch: 9\n",
      "bleu_test:0.0893993042681127\n",
      "(step:9100 91%) loss_train:2.9642, loss_test:3.2869\n",
      "(step:9200 92%) loss_train:2.9768, loss_test:3.4540\n",
      "(step:9300 93%) loss_train:2.9671, loss_test:3.1982\n",
      "(step:9400 94%) loss_train:2.9034, loss_test:3.3443\n",
      "(step:9500 95%) loss_train:2.8129, loss_test:3.2414\n",
      "(step:9600 96%) loss_train:2.8263, loss_test:3.2868\n",
      "(step:9700 97%) loss_train:2.8490, loss_test:3.3525\n",
      "(step:9800 98%) loss_train:2.8665, loss_test:3.3507\n",
      "(step:9900 99%) loss_train:2.8689, loss_test:3.2864\n",
      "(step:10000 100%) loss_train:2.8770, loss_test:3.3157\n",
      "epoch: 10\n",
      "bleu_test:0.09105044116409014\n"
     ]
    }
   ],
   "source": [
    "plot_losses_train, plot_losses_test, plot_bleu = trainIters(batch_generator_train, batch_generator_test, encoder1, decoder1, num_step, batch_size, device, SOS_token, PAD_token, print_every=100, step_every_epoch = 1000, learning_rate=0.001, bleu_params=bleu_params, max_norm=max_norm)"
   ]
  },
  {
   "cell_type": "code",
   "execution_count": 13,
   "metadata": {},
   "outputs": [
    {
     "data": {
      "image/png": "[encoded data removed]",
      "text/plain": [
       "<Figure size 432x288 with 1 Axes>"
      ]
     },
     "metadata": {},
     "output_type": "display_data"
    }
   ],
   "source": [
    "plt.plot(plot_losses_train)\n",
    "plt.plot(plot_losses_test)\n",
    "plt.show()"
   ]
  },
  {
   "cell_type": "code",
   "execution_count": 14,
   "metadata": {},
   "outputs": [
    {
     "data": {
      "image/png": "[encoded data removed]",
      "text/plain": [
       "<Figure size 432x288 with 1 Axes>"
      ]
     },
     "metadata": {},
     "output_type": "display_data"
    }
   ],
   "source": [
    "plt.plot(plot_bleu)\n",
    "plt.show()"
   ]
  },
  {
   "cell_type": "code",
   "execution_count": null,
   "metadata": {},
   "outputs": [],
   "source": []
  }
 ],
 "metadata": {
  "kernelspec": {
   "display_name": "Python 3",
   "language": "python",
   "name": "python3"
  },
  "language_info": {
   "codemirror_mode": {
    "name": "ipython",
    "version": 3
   },
   "file_extension": ".py",
   "mimetype": "text/x-python",
   "name": "python",
   "nbconvert_exporter": "python",
   "pygments_lexer": "ipython3",
   "version": "3.6.5"
  }
 },
 "nbformat": 4,
 "nbformat_minor": 1
}
