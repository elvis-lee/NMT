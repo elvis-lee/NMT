{
 "cells": [
  {
   "cell_type": "code",
   "execution_count": 57,
   "metadata": {},
   "outputs": [],
   "source": [
    "import torch \n",
    "import torch.nn as nn\n",
    "from torch.autograd import Variable\n",
    "import torch.nn.functional as F\n",
    "import os\n",
    "from torch import optim\n",
    "from torch.nn.utils.rnn import pad_sequence\n",
    "from torch.nn.utils.rnn import pack_sequence\n",
    "from torch.nn.utils.rnn import pack_padded_sequence\n",
    "from torch.nn.utils.rnn import pad_packed_sequence\n",
    "import numpy as np"
   ]
  },
  {
   "cell_type": "markdown",
   "metadata": {},
   "source": [
    "## Parameters Setup"
   ]
  },
  {
   "cell_type": "code",
   "execution_count": 58,
   "metadata": {},
   "outputs": [
    {
     "name": "stdout",
     "output_type": "stream",
     "text": [
      "cpu\n"
     ]
    }
   ],
   "source": [
    "# parameters\n",
    "MAX_LENGTH = 25\n",
    "#device = torch.device(\"cuda\" if torch.cuda.is_available() else \"cpu\")\n",
    "device = torch.device(\"cpu\")\n",
    "print(device)\n",
    "\n",
    "SOS_token = 1\n",
    "EOS_token = 2\n",
    "\n",
    "hidden_size = 512\n",
    "\n",
    "batch_size = 1"
   ]
  },
  {
   "cell_type": "markdown",
   "metadata": {},
   "source": [
    "## Data Setup"
   ]
  },
  {
   "cell_type": "code",
   "execution_count": 59,
   "metadata": {},
   "outputs": [],
   "source": [
    "# set data path\n",
    "data_dir = os.path.join('datasets', 'nmt_data_vi')\n",
    "train_source = 'train.vi'\n",
    "train_target = 'train.en'\n",
    "train_source_dir = os.path.join(data_dir, train_source)\n",
    "train_target_dir = os.path.join(data_dir, train_target)\n",
    "vocab_source = 'vocab.vi'\n",
    "vocab_target = 'vocab.en'\n",
    "vocab_source_dir = os.path.join(data_dir, vocab_source)\n",
    "vocab_target_dir = os.path.join(data_dir, vocab_target)"
   ]
  },
  {
   "cell_type": "code",
   "execution_count": 60,
   "metadata": {},
   "outputs": [
    {
     "name": "stdout",
     "output_type": "stream",
     "text": [
      "Total number of sentences in source training set: 133317\n",
      "Total number of sentences in target training set: 133317\n"
     ]
    }
   ],
   "source": [
    "# load training sets\n",
    "with open(train_source_dir) as f_source:\n",
    "    sentences_source = f_source.readlines()\n",
    "with open(train_target_dir) as f_target:\n",
    "    sentences_target = f_target.readlines()\n",
    "\n",
    "# check the total number of sentencs in training sets    \n",
    "print(\"Total number of sentences in source training set: {}\".format(len(sentences_source)))\n",
    "print(\"Total number of sentences in target training set: {}\".format(len(sentences_target)))"
   ]
  },
  {
   "cell_type": "code",
   "execution_count": 61,
   "metadata": {},
   "outputs": [
    {
     "name": "stdout",
     "output_type": "stream",
     "text": [
      "Number of words in the longest sentence in sentences_source: 25\n",
      "The longest sentence: \n",
      "['Trong', '4', 'phút', ',', 'chuyên', 'gia', 'hoá', 'học', 'khí', 'quyển', 'Rachel', 'Pike', 'giới', 'thiệu', 'sơ', 'lược', 'về', 'những', 'nỗ', 'lực', 'khoa', 'học', 'miệt', 'mài', 'đằng']\n"
     ]
    }
   ],
   "source": [
    "# Truncate sentences by maximum length\n",
    "sentences_source = list(map(lambda src:src.split()[:MAX_LENGTH], sentences_source))\n",
    "sentences_target = list(map(lambda src:src.split()[:MAX_LENGTH], sentences_target))\n",
    "\n",
    "# check the longest sentence after sentence truncation\n",
    "max = 0\n",
    "for s in sentences_source:\n",
    "    if len(s) > max:\n",
    "        max = len(s)\n",
    "        max_s = s\n",
    "print(\"Number of words in the longest sentence in sentences_source: {}\".format(max))\n",
    "print(\"The longest sentence: \\n{}\".format(max_s))"
   ]
  },
  {
   "cell_type": "code",
   "execution_count": 62,
   "metadata": {},
   "outputs": [
    {
     "name": "stdout",
     "output_type": "stream",
     "text": [
      "Total nummber of words in source vocabulary: 7709\n",
      "Total nummber of words in target vocabulary: 17191\n"
     ]
    }
   ],
   "source": [
    "# load vocabularies\n",
    "\n",
    "# build index2word\n",
    "with open(vocab_source_dir) as f_vocab_source:\n",
    "    #index2word_source = f_vocab_source.readlines()\n",
    "    index2word_source = [line.rstrip() for line in f_vocab_source]\n",
    "with open(vocab_target_dir) as f_vocab_target:\n",
    "    #index2word_target = f_vocab_target.readlines()\n",
    "    index2word_target = [line.rstrip() for line in f_vocab_target]\n",
    "\n",
    "# build word2index\n",
    "word2index_source = {}\n",
    "for idx, word in enumerate(index2word_source):\n",
    "    word2index_source[word] = idx\n",
    "word2index_target = {}\n",
    "for idx, word in enumerate(index2word_target):\n",
    "    word2index_target[word] = idx\n",
    "    \n",
    "# check vocabularies size    \n",
    "source_vocab_size = len(index2word_source)\n",
    "target_vocab_size = len(index2word_target)\n",
    "print(\"Total nummber of words in source vocabulary: {}\".format(len(index2word_source)))\n",
    "print(\"Total nummber of words in target vocabulary: {}\".format(len(index2word_target)))    "
   ]
  },
  {
   "cell_type": "code",
   "execution_count": 63,
   "metadata": {},
   "outputs": [],
   "source": [
    "# helper funtions to convert sentence in natural language to list of word indexes\n",
    "def sen2idx(sentence, word2index):\n",
    "    return [word2index.get(word, 0) for word in sentence] # assume that 0 is for <unk>\n",
    "\n",
    "def sen2tensor(sentence, word2index):\n",
    "    idxes = sen2idx(sentence, word2index)\n",
    "    idxes.append(EOS_token)\n",
    "    return torch.tensor(idxes, dtype=torch.long, device=device)"
   ]
  },
  {
   "cell_type": "markdown",
   "metadata": {},
   "source": [
    "## Token to be ignored"
   ]
  },
  {
   "cell_type": "code",
   "execution_count": 64,
   "metadata": {},
   "outputs": [],
   "source": [
    "PAD_token = target_vocab_size # padding value"
   ]
  },
  {
   "cell_type": "markdown",
   "metadata": {},
   "source": [
    "## Batch Generator"
   ]
  },
  {
   "cell_type": "code",
   "execution_count": 65,
   "metadata": {},
   "outputs": [],
   "source": [
    "# batch generator\n",
    "def sentences2tensor(sentences, word2index):\n",
    "    sentences_tensor = [sen2tensor(s, word2index) for s in sentences]\n",
    "    sentences_tensor.sort(key=len, reverse=True)\n",
    "    output = pad_sequence(sentences_tensor, batch_first=True)\n",
    "    return output\n",
    "\n",
    "def batch_generator(batch_size, sentences_source, sentences_target, word2index_source, word2index_target):\n",
    "    #output: two PackedSequence object, two indexes to reorder sentences in a batch\n",
    "    \n",
    "    # generate id in one batch\n",
    "    total = len(sentences_source)\n",
    "    sample_id = np.random.choice(total, batch_size, replace=False)\n",
    "    \n",
    "    #generate a source batch\n",
    "    sentences_source_tensor = [sen2tensor(sentences_source[id], word2index_source) for id in sample_id]\n",
    "    \n",
    "    len_array_source = [len(st) for st in sentences_source_tensor]\n",
    "    reorder_idx_source = np.argsort(len_array_source, kind='mergesort')\n",
    "    reorder_idx_source = np.argsort(np.flip(reorder_idx_source, 0)) #index to restore unsorted order\n",
    "    \n",
    "    sentences_source_tensor.sort(key=len)\n",
    "    sentences_source_tensor.reverse()\n",
    "    sentences_source_packed = pack_sequence(sentences_source_tensor)\n",
    "    \n",
    "    #generate a target batch\n",
    "    sentences_target_tensor = [sen2tensor(sentences_target[id], word2index_target) for id in sample_id]\n",
    "    \n",
    "    len_array_target = [len(st) for st in sentences_target_tensor]\n",
    "    reorder_idx_target = np.argsort(len_array_target, kind='mergesort')\n",
    "    reorder_idx_target = np.argsort(np.flip(reorder_idx_target, 0)) #index to restore unsorted order\n",
    "    \n",
    "    sentences_target_tensor.sort(key=len)\n",
    "    sentences_target_tensor.reverse()\n",
    "    sentences_target_packed = pack_sequence(sentences_target_tensor)\n",
    "    \n",
    "    return (sentences_source_packed, reorder_idx_source), (sentences_target_packed, reorder_idx_target)"
   ]
  },
  {
   "cell_type": "code",
   "execution_count": 66,
   "metadata": {},
   "outputs": [
    {
     "name": "stdout",
     "output_type": "stream",
     "text": [
      "PackedSequence(data=tensor([  47,    8,  382,    2,    8,  897,    2]), batch_sizes=tensor([ 2,  2,  1,  1,  1]))\n",
      "[1 0]\n",
      "(tensor([[  47,  382,    8,  897,    2],\n",
      "        [   8,    2,    0,    0,    0]]), tensor([ 5,  2]))\n"
     ]
    }
   ],
   "source": [
    "# test batch_generator\n",
    "a = ['I','am','a','boy']\n",
    "b = ['a']\n",
    "c = ['the','goat']\n",
    "\n",
    "sentences_test = [a,b,c]\n",
    "sentences_test2 = [c,b,a]\n",
    "\n",
    "(output_test, reorder_idx_test), (output_test2, reorder_idx_test2) = batch_generator(2, sentences_test, sentences_test2, word2index_target, word2index_target)\n",
    "print(output_test)\n",
    "print(reorder_idx_test)\n",
    "print(pad_packed_sequence(output_test, batch_first=True))\n",
    "\n",
    "del a, b, c, sentences_test, sentences_test2, output_test, reorder_idx_test, output_test2, reorder_idx_test2"
   ]
  },
  {
   "cell_type": "markdown",
   "metadata": {},
   "source": [
    "## Helper function to resume order of sentences in a batch"
   ]
  },
  {
   "cell_type": "markdown",
   "metadata": {},
   "source": [
    "Order recovery is necessary because sentences have to be sorted in descending order of sentence length to be packed as a PackedSequence object. PackedSequence object helps to deal with inputs with variable length in NMT setting. LSTM, RNN can accept PackedSequence objects."
   ]
  },
  {
   "cell_type": "code",
   "execution_count": 67,
   "metadata": {},
   "outputs": [],
   "source": [
    "def resume_order(input, idx):\n",
    "    # input \n",
    "    #   input: Tensor: (batch_size, seq_length)\n",
    "    #   idx: Tensor or ndarray: (batch_size)\n",
    "    # output\n",
    "    #   out: Tensor with reordered sentences in batch: (batch_size, seq_length) \n",
    "    \n",
    "    if isinstance(idx, (np.ndarray)):\n",
    "        idx = torch.from_numpy(idx)\n",
    "        if device == torch.device(\"cuda\"):\n",
    "            idx = idx.cuda()\n",
    "    out = torch.index_select(input, 0, idx)\n",
    "    return out"
   ]
  },
  {
   "cell_type": "code",
   "execution_count": 68,
   "metadata": {},
   "outputs": [
    {
     "name": "stdout",
     "output_type": "stream",
     "text": [
      "tensor([[ 7,  8,  9],\n",
      "        [ 4,  5,  6],\n",
      "        [ 1,  2,  3]])\n",
      "tensor([[ 7,  8,  9],\n",
      "        [ 4,  5,  6],\n",
      "        [ 1,  2,  3]])\n",
      "cpu\n"
     ]
    }
   ],
   "source": [
    "# test resume_order\n",
    "input_test = torch.tensor([[1,2,3],[4,5,6],[7,8,9]],device=device)\n",
    "idx_test = np.array([2,1,0])\n",
    "print(resume_order(input_test, idx_test))\n",
    "input_test = torch.tensor([[1,2,3],[4,5,6],[7,8,9]],device=device)\n",
    "idx_test = torch.tensor([2,1,0], device=device)\n",
    "print(resume_order(input_test, idx_test))\n",
    "print(idx_test.device)\n",
    "del input_test, idx_test"
   ]
  },
  {
   "cell_type": "markdown",
   "metadata": {},
   "source": [
    "## Define Encoder and Decoder classes"
   ]
  },
  {
   "cell_type": "code",
   "execution_count": 69,
   "metadata": {},
   "outputs": [],
   "source": [
    "class EncoderLSTM(nn.Module):\n",
    "    def __init__(self, input_size, hidden_size, batch_size, num_layers=1, num_directions=1, dropout=0):\n",
    "        super(EncoderLSTM, self).__init__()\n",
    "        self.hidden_size = hidden_size\n",
    "        self.batch_size = batch_size\n",
    "        self.num_layers = num_layers\n",
    "        self.num_directions = num_directions\n",
    "        self.dropout = dropout\n",
    "        \n",
    "        self.embedding = nn.Embedding(input_size, hidden_size)\n",
    "        self.lstm = nn.LSTM(hidden_size, hidden_size, batch_first=True)\n",
    "    def forward(self, input_tuple, prev_h, prev_c):\n",
    "        # input\n",
    "        # input size: (batch_size, seq_length)\n",
    "        # prev_h size: (num_layers*num_directions, batch_size, hidden_size)\n",
    "        # prec_c size: (num_layers*num_directions, batch_size, hidden_size)\n",
    "        # output\n",
    "        # h_n size: (num_layers*num_directions, batch_size, hidden_size)\n",
    "        # c_n size: (num_layers*num_directions, batch_size, hidden_size)\n",
    "        (sentences_packed, reorder_idx) = input_tuple\n",
    "        sentences_tensor, sentences_length = pad_packed_sequence(sentences_packed, batch_first=True, padding_value=0)\n",
    "        #sentences_tensor: (batch_size, seq_length)\n",
    "        input_embedded = self.embedding(sentences_tensor) # (batch_size, seq_length, hidden_size)\n",
    "        input_embedded_packed = pack_padded_sequence(input_embedded, sentences_length, batch_first=True)\n",
    "        _, (h_n, c_n) = self.lstm(input_embedded_packed, (prev_h, prev_c))\n",
    "        return h_n, c_n\n",
    "    def initHidden(self):\n",
    "        return torch.zeros(self.num_layers*self.num_directions, self.batch_size, self.hidden_size, device=device)"
   ]
  },
  {
   "cell_type": "code",
   "execution_count": 70,
   "metadata": {},
   "outputs": [],
   "source": [
    "# num_layers and num_directions for encoder must be 0 when this decoder is used\n",
    "class DecoderLSTM(nn.Module):\n",
    "    def __init__(self, hidden_size, output_size, batch_size):\n",
    "        super(DecoderLSTM, self).__init__()\n",
    "        self.hidden_size = hidden_size\n",
    "        self.batch_size = batch_size\n",
    "        \n",
    "        self.embedding = nn.Embedding(output_size, hidden_size)\n",
    "        self.lstm = nn.LSTMCell(hidden_size, hidden_size)\n",
    "        self.out = nn.Linear(hidden_size, output_size)\n",
    "        self.softmax = nn.LogSoftmax(dim=1)\n",
    "    def forward(self, input, prev_h, prev_c):\n",
    "        input_embedded = self.embedding(input)\n",
    "        h, c = self.lstm(input_embedded, (prev_h, prev_c))\n",
    "        output =self.softmax(self.out(h))\n",
    "        return output, h, c\n",
    "    def initHidden(self):\n",
    "        return torch.zeros(self.batch_size, self.hidden_size, device=device)"
   ]
  },
  {
   "cell_type": "code",
   "execution_count": 71,
   "metadata": {},
   "outputs": [],
   "source": [
    "# This DecoderLSTM can't do teacher forcing in training\n",
    "\n",
    "# class DecoderLSTM(nn.Module):\n",
    "#     def __init__(self, hidden_size, output_size, batch_size, num_layers=1, num_directions=1, dropout=0):\n",
    "#         super(DecoderLSTM, self).__init__()\n",
    "#         self.hidden_size = hidden_size\n",
    "#         self.batch_size = batch_size\n",
    "#         self.num_layers = num_layers\n",
    "#         self.num_directions = num_directions\n",
    "#         self.dropout = dropout\n",
    "        \n",
    "#         self.embedding = nn.Embedding(output_size, hidden_size)\n",
    "#         self.lstm = nn.LSTM(hidden_size, hidden_size, batch_first=True)\n",
    "#         self.out = nn.Linear(hidden_size*num_directions, output_size)\n",
    "#         self.softmax = nn.LogSoftmax(dim=2)\n",
    "#     def forward(self, input, prev_h, prev_c):\n",
    "#         # input \n",
    "#         # input size: (batch_size, seq_length)\n",
    "#         # prev_h size: (num_layers*num_directions, batch_size, hidden_size)\n",
    "#         # prec_c size: (num_layers*num_directions, batch_size, hidden_size)\n",
    "#         # output\n",
    "#         # h_n size: (num_layers*num_directions, batch_size, hidden_size)\n",
    "#         # c_n size: (num_layers*num_directions, batch_size, hidden_size)\n",
    "#         # output size: (batch_size, seq_length, output_size)\n",
    "#         input_embedded = self.embedding(input)\n",
    "#         output, (h_n, c_n) = self.lstm(input_embedded, (prev_h, prev_c))\n",
    "#         output =self.softmax(self.out(h))\n",
    "#         return output, h_n, c_n\n",
    "#     def initHidden(self, batch_size):\n",
    "#         return torch.zeros(self.num_layers*self.num_directions, self.batch_size, self.hidden_size, device=device)"
   ]
  },
  {
   "cell_type": "markdown",
   "metadata": {},
   "source": [
    "## Training"
   ]
  },
  {
   "cell_type": "code",
   "execution_count": 72,
   "metadata": {},
   "outputs": [],
   "source": [
    "def train(source_tuple, target_tuple, encoder, decoder, encoder_optimizer, decoder_optimizer,batch_size, max_length=MAX_LENGTH):\n",
    "    \n",
    "    encoder_hidden_h = encoder.initHidden()\n",
    "    encoder_hidden_c = encoder.initHidden()\n",
    "    \n",
    "    encoder_optimizer.zero_grad()\n",
    "    decoder_optimizer.zero_grad()\n",
    "    loss = 0\n",
    "    \n",
    "    criterion = nn.NLLLoss(ignore_index=PAD_token, size_average=False)\n",
    "    \n",
    "    (sentences_source_packed, reorder_idx_source) = source_tuple\n",
    "    (sentences_target_packed, reorder_idx_target) = target_tuple\n",
    "    sentences_target_tensor, sentences_target_length = pad_packed_sequence(sentences_target_packed, batch_first=True, padding_value=PAD_token)\n",
    "    sentences_target_tensor = resume_order(sentences_target_tensor, reorder_idx_target)\n",
    "\n",
    "    target_length = sentences_target_tensor.size(1)\n",
    "    \n",
    "    # encoder_hidden_h size: (num_layers*num_directions, batch_size, hidden_size)\n",
    "    # encoder_hidden_c size: (num_layers*num_directions, batch_size, hidden_size)\n",
    "    encoder_hidden_h, encoder_hidden_c = encoder(source_tuple, encoder_hidden_h, encoder_hidden_c)\n",
    "    \n",
    "    \n",
    "    decoder_input = torch.full((batch_size,), SOS_token, dtype=torch.long, device=device)\n",
    "    decoder_hidden_c = resume_order(encoder_hidden_c[0], reorder_idx_source)\n",
    "    decoder_hidden_h = resume_order(encoder_hidden_h[0], reorder_idx_source)\n",
    "    \n",
    "    to_print = []\n",
    "    \n",
    "    for di in range(target_length):\n",
    "        decoder_output, decoder_hidden_h, decoder_hidden_c = decoder(decoder_input, decoder_hidden_h, decoder_hidden_c)\n",
    "        loss += criterion(decoder_output, sentences_target_tensor[:,di])\n",
    "        decoder_input = sentences_target_tensor[:,di]\n",
    "        \n",
    "        decoder_output_np = np.argmax(decoder_output.detach().cpu().numpy(), 1)[0]\n",
    "        to_print.append(index2word_target[decoder_output_np])\n",
    "    \n",
    "    denominator = torch.sum(sentences_target_length).float()\n",
    "    if device == torch.device(\"cuda\"):\n",
    "        denominator = denominator.cuda()\n",
    "    loss = loss / denominator\n",
    "    \n",
    "    loss.backward()\n",
    "    \n",
    "    encoder_optimizer.step()\n",
    "    decoder_optimizer.step()\n",
    "    \n",
    "    return loss.item(), to_print"
   ]
  },
  {
   "cell_type": "code",
   "execution_count": 73,
   "metadata": {},
   "outputs": [],
   "source": [
    "def trainIters(encoder, decoder, n_iters, print_every=1000, plot_every=100, learning_rate=0.1):\n",
    "    plot_losses = []\n",
    "    print_loss_total = 0\n",
    "    plot_loss_total = 0\n",
    "    \n",
    "    encoder_optimizer = optim.SGD(encoder.parameters(), learning_rate)\n",
    "    decoder_optimizer = optim.SGD(decoder.parameters(), learning_rate)\n",
    "    \n",
    "    for iter in range(1, n_iters+1):\n",
    "        source_tuple, target_tuple = batch_generator(batch_size, sentences_source, sentences_target, word2index_source, word2index_target)\n",
    "        loss, to_print = train(source_tuple, target_tuple, encoder, decoder, encoder_optimizer, decoder_optimizer, batch_size)\n",
    "        print_loss_total += loss\n",
    "        plot_loss_total += loss\n",
    "        \n",
    "        if iter%print_every ==0:\n",
    "            print_loss_avg = print_loss_total / print_every\n",
    "            print_loss_total = 0\n",
    "            print('(%d %d%%) %.4f' % (iter, iter / n_iters * 100, print_loss_avg))\n",
    "            print(to_print)"
   ]
  },
  {
   "cell_type": "code",
   "execution_count": null,
   "metadata": {},
   "outputs": [],
   "source": [
    "encoder1 = EncoderLSTM(source_vocab_size, hidden_size, batch_size).to(device)\n",
    "decoder1 = DecoderLSTM(hidden_size, target_vocab_size+1, batch_size).to(device) # +1 is a wordaround for ignore_index field of NLLLoss\n",
    "trainIters(encoder1, decoder1, 133317, print_every=100)"
   ]
  }
 ],
 "metadata": {
  "kernelspec": {
   "display_name": "Python 3",
   "language": "python",
   "name": "python3"
  },
  "language_info": {
   "codemirror_mode": {
    "name": "ipython",
    "version": 3
   },
   "file_extension": ".py",
   "mimetype": "text/x-python",
   "name": "python",
   "nbconvert_exporter": "python",
   "pygments_lexer": "ipython3",
   "version": "3.6.5"
  }
 },
 "nbformat": 4,
 "nbformat_minor": 1
}
