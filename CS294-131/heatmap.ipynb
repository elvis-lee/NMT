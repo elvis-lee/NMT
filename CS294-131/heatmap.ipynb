{
 "cells": [
  {
   "cell_type": "code",
   "execution_count": 2,
   "metadata": {},
   "outputs": [
    {
     "name": "stdout",
     "output_type": "stream",
     "text": [
      "WARNING:tensorflow:From /usr/local/lib/python3.5/dist-packages/tensorflow/contrib/learn/python/learn/datasets/base.py:198: retry (from tensorflow.contrib.learn.python.learn.datasets.base) is deprecated and will be removed in a future version.\n",
      "Instructions for updating:\n",
      "Use the retry module or similar alternatives.\n"
     ]
    }
   ],
   "source": [
    "%matplotlib inline\n",
    "\n",
    "import collections\n",
    "from functools import partial\n",
    "import math\n",
    "import matplotlib.pyplot as plt\n",
    "import os\n",
    "import random\n",
    "import time\n",
    "import zipfile\n",
    "\n",
    "import numpy as np\n",
    "from six.moves import urllib\n",
    "from six.moves import xrange\n",
    "\n",
    "import tensorflow as tf\n",
    "\n",
    "# Helper TensorFlow functions\n",
    "from utils import maybe_download\n",
    "\n",
    "# The encoder-decoder architecture\n",
    "from nmt.model import AttentionalModel, LSTMCell\n",
    "from nmt.utils import vocab_utils\n",
    "from nmt.train import train"
   ]
  },
  {
   "cell_type": "code",
   "execution_count": 3,
   "metadata": {},
   "outputs": [],
   "source": [
    "from nmt import inference\n",
    "from nmt.utils import misc_utils as utils"
   ]
  },
  {
   "cell_type": "code",
   "execution_count": 4,
   "metadata": {},
   "outputs": [],
   "source": [
    "from nmt.train import run_sample_decode"
   ]
  },
  {
   "cell_type": "code",
   "execution_count": 5,
   "metadata": {},
   "outputs": [],
   "source": [
    "def create_standard_hparams(data_path, out_dir):\n",
    "    \n",
    "    hparams = tf.contrib.training.HParams(\n",
    "        \n",
    "        # Data\n",
    "        src=\"vi\",\n",
    "        tgt=\"en\",\n",
    "        train_prefix=os.path.join(data_path, \"train\"),\n",
    "        dev_prefix=os.path.join(data_path, \"tst2012\"),\n",
    "        test_prefix=os.path.join(data_path, \"tst2013\"),\n",
    "        vocab_prefix=\"\",\n",
    "        embed_prefix=\"\",\n",
    "        out_dir=out_dir,\n",
    "        src_vocab_file=os.path.join(data_path, \"vocab.vi\"),\n",
    "        tgt_vocab_file=os.path.join(data_path, \"vocab.en\"),\n",
    "        src_embed_file=\"\",\n",
    "        tgt_embed_file=\"\",\n",
    "        src_file=os.path.join(data_path, \"train.vi\"),\n",
    "        tgt_file=os.path.join(data_path, \"train.en\"),\n",
    "        dev_src_file=os.path.join(data_path, \"tst2012.vi\"),\n",
    "        dev_tgt_file=os.path.join(data_path, \"tst2012.en\"),\n",
    "        test_src_file=os.path.join(data_path, \"tst2013.vi\"),\n",
    "        test_tgt_file=os.path.join(data_path, \"tst2013.en\"),\n",
    "\n",
    "        # Networks\n",
    "        num_units=512,\n",
    "        num_layers=1,\n",
    "        num_encoder_layers=1,\n",
    "        num_decoder_layers=1,\n",
    "        num_encoder_residual_layers=0,\n",
    "        num_decoder_residual_layers=0,\n",
    "        dropout=0.2,\n",
    "        unit_type=\"lstm\",\n",
    "        encoder_type=\"uni\",\n",
    "        residual=False,\n",
    "        time_major=True,\n",
    "        num_embeddings_partitions=0,\n",
    "\n",
    "        # Train\n",
    "        optimizer=\"adam\",\n",
    "        batch_size=128,\n",
    "        init_op=\"uniform\",\n",
    "        init_weight=0.1,\n",
    "        max_gradient_norm=100.0,\n",
    "        learning_rate=0.001,\n",
    "        warmup_steps=0,\n",
    "        warmup_scheme=\"t2t\",\n",
    "        decay_scheme=\"luong234\",\n",
    "        colocate_gradients_with_ops=True,\n",
    "        num_train_steps=12000,\n",
    "\n",
    "        # Data constraints\n",
    "        num_buckets=5,\n",
    "        max_train=0,\n",
    "        src_max_len=25,\n",
    "        tgt_max_len=25,\n",
    "        src_max_len_infer=0,\n",
    "        tgt_max_len_infer=0,\n",
    "\n",
    "        # Data format\n",
    "        sos=\"<s>\",\n",
    "        eos=\"</s>\",\n",
    "        subword_option=\"\",\n",
    "        check_special_token=True,\n",
    "\n",
    "        # Misc\n",
    "        forget_bias=1.0,\n",
    "        num_gpus=1,\n",
    "        epoch_step=0,  # record where we were within an epoch.\n",
    "        steps_per_stats=100,\n",
    "        steps_per_external_eval=0,\n",
    "        share_vocab=False,\n",
    "        metrics=[\"bleu\"],\n",
    "        log_device_placement=False,\n",
    "        random_seed=None,\n",
    "        # only enable beam search during inference when beam_width > 0.\n",
    "        beam_width=0,\n",
    "        length_penalty_weight=0.0,\n",
    "        override_loaded_hparams=True,\n",
    "        num_keep_ckpts=5,\n",
    "        avg_ckpts=False,\n",
    "        num_intra_threads=0,\n",
    "        num_inter_threads=0,\n",
    "\n",
    "        # For inference\n",
    "        inference_indices=None,\n",
    "        infer_batch_size=32,\n",
    "        sampling_temperature=0.0,\n",
    "        num_translations_per_input=1,\n",
    "        \n",
    "    )\n",
    "    \n",
    "    src_vocab_size, _ = vocab_utils.check_vocab(hparams.src_vocab_file, hparams.out_dir)\n",
    "    tgt_vocab_size, _ = vocab_utils.check_vocab(hparams.tgt_vocab_file, hparams.out_dir)\n",
    "    hparams.add_hparam('src_vocab_size', src_vocab_size)\n",
    "    hparams.add_hparam('tgt_vocab_size', tgt_vocab_size)\n",
    "    \n",
    "    out_dir = hparams.out_dir\n",
    "    if not tf.gfile.Exists(out_dir):\n",
    "        tf.gfile.MakeDirs(out_dir)\n",
    "         \n",
    "    for metric in hparams.metrics:\n",
    "        hparams.add_hparam(\"best_\" + metric, 0)  # larger is better\n",
    "        best_metric_dir = os.path.join(hparams.out_dir, \"best_\" + metric)\n",
    "        hparams.add_hparam(\"best_\" + metric + \"_dir\", best_metric_dir)\n",
    "        tf.gfile.MakeDirs(best_metric_dir)\n",
    "\n",
    "        if hparams.avg_ckpts:\n",
    "            hparams.add_hparam(\"avg_best_\" + metric, 0)  # larger is better\n",
    "            best_metric_dir = os.path.join(hparams.out_dir, \"avg_best_\" + metric)\n",
    "            hparams.add_hparam(\"avg_best_\" + metric + \"_dir\", best_metric_dir)\n",
    "            tf.gfile.MakeDirs(best_metric_dir)\n",
    "\n",
    "    return hparams"
   ]
  },
  {
   "cell_type": "code",
   "execution_count": 6,
   "metadata": {},
   "outputs": [],
   "source": [
    "class LSTMCellWithAttention(LSTMCell):\n",
    "    \n",
    "    def __init__(self, num_units, memory):\n",
    "        super(LSTMCellWithAttention, self).__init__(num_units)\n",
    "        self.memory = memory\n",
    "        \n",
    "    def attention(self):\n",
    "        raise NotImplementedError(\"The subclass must implement this method!\")\n",
    "\n",
    "    def call(self, inputs, state):\n",
    "        \"\"\"Run this LSTM cell with attention on inputs, conditional on state.\"\"\"\n",
    "        \n",
    "        # Cell and hidden states of the LSTM\n",
    "        c, h = state\n",
    "        \n",
    "        # Source (encoder) states to attend over\n",
    "        source_states = self.memory\n",
    "        \n",
    "        # Cell activation (e.g., tanh, relu, etc.)\n",
    "        activation = self._activation\n",
    "        \n",
    "        # LSTM cell parameters\n",
    "        kernel = self._kernel\n",
    "        bias = self._bias\n",
    "        forget_bias = self._forget_bias\n",
    "        \n",
    "        ### YOUR CODE HERE\n",
    "        # shapes of tensors\n",
    "        # input [batch, state_size] or [batch, num_units] \n",
    "        # source_states [batch, input_length, state_size]\n",
    "        # c [batch, state_size]\n",
    "        # h [batch, state_size]\n",
    "        \n",
    "        lstm_matrix = tf.matmul(tf.concat([inputs, h], 1), kernel) # [batch, 4*state_size]\n",
    "        lstm_matrix = tf.add(lstm_matrix, bias)\n",
    "        i, g, f, o = tf.split(lstm_matrix, 4, 1) # each size [batch, state_size]\n",
    "        new_c = tf.sigmoid(f + forget_bias) * c + tf.sigmoid(i) * activation(g)\n",
    "        new_h = tf.sigmoid(o) * activation(new_c)\n",
    "        \n",
    "        attention_vector = self.attention(new_h, source_states) # what's target_state here?      \n",
    "        ### END YOUR CODE\n",
    "        ### Your code should compute attention vector, new_c and new_h\n",
    "\n",
    "        # Adhering to convention\n",
    "        new_state = tf.contrib.rnn.LSTMStateTuple(new_c, new_h)\n",
    "    \n",
    "        return attention_vector, new_state \n",
    "\n",
    "\n",
    "class LSTMCellWithDotProductAttention(LSTMCellWithAttention):\n",
    "        \n",
    "    def build(self, inputs_shape):\n",
    "        super(LSTMCellWithDotProductAttention, self).build(inputs_shape)\n",
    "        self._W_c = self.add_variable(\"W_c\", \n",
    "                                      shape=[self._num_units + self._num_units, \n",
    "                                             256])\n",
    "\n",
    "    def attention(self, target_state, source_states):\n",
    "        \"\"\"Return the attention vector computed from attending over\n",
    "        source_states using a function of target_state and source_states.\"\"\"\n",
    "        \n",
    "        ### YOUR CODE HERE\n",
    "        #raise NotImplementedError(\"Need to implement dot-product attention.\")\n",
    "        \n",
    "        # shapes of tensors\n",
    "        # source_states [batch, input_length, state_size]\n",
    "        # target_state [batch, state_size]\n",
    "\n",
    "        scores = tf.matmul(source_states, tf.expand_dims(target_state, -1)) # [batch, input_length, 1]\n",
    "        scores = scores - tf.reduce_max(scores, 1, keepdims=True)\n",
    "        scores_exp = tf.exp(scores)\n",
    "        scores = scores_exp/tf.reduce_sum(scores_exp, 1, keepdims=True)\n",
    "        \n",
    "        c = tf.squeeze(tf.matmul(source_states, tf.Print(scores, [scores],summarize = 30), transpose_a=True), -1) # [batch, state_size]\n",
    "        \n",
    "        ### END YOUR CODE\n",
    "        \n",
    "        ### Your code should compute the context vector c\n",
    "        attention_vector = tf.tanh(tf.matmul(tf.concat([c, target_state], -1), self._W_c))\n",
    "        \n",
    "        return attention_vector"
   ]
  },
  {
   "cell_type": "code",
   "execution_count": 7,
   "metadata": {},
   "outputs": [
    {
     "name": "stdout",
     "output_type": "stream",
     "text": [
      "# Vocab file datasets/nmt_data_vi/vocab.vi exists\n",
      "# Vocab file datasets/nmt_data_vi/vocab.en exists\n"
     ]
    }
   ],
   "source": [
    "hparams = create_standard_hparams(data_path=os.path.join(\"datasets\", \"nmt_data_vi\"), \n",
    "                                  out_dir=\"nmt_model_dotprodatt\")\n",
    "hparams.add_hparam(\"attention_cell_class\", LSTMCellWithDotProductAttention)"
   ]
  },
  {
   "cell_type": "code",
   "execution_count": 8,
   "metadata": {},
   "outputs": [],
   "source": [
    "log_device_placement = hparams.log_device_placement\n",
    "out_dir = hparams.out_dir\n",
    "scope = None\n",
    "target_session=\"\""
   ]
  },
  {
   "cell_type": "code",
   "execution_count": 9,
   "metadata": {},
   "outputs": [],
   "source": [
    "from nmt import model_helper"
   ]
  },
  {
   "cell_type": "code",
   "execution_count": 10,
   "metadata": {},
   "outputs": [
    {
     "name": "stdout",
     "output_type": "stream",
     "text": [
      "# creating infer graph ...\n",
      "  num_layers = 1, num_residual_layers=0\n",
      "  cell 0  LSTM, forget_bias=1  DeviceWrapper, device=/gpu:0\n",
      "  cell 0  LSTMCellWithDotProductAttention, dropout=0   LSTMCellWithDotProductAttention  DeviceWrapper, device=/gpu:0\n",
      "# Trainable variables\n",
      "  embeddings/encoder/embedding_encoder:0, (7709, 512), /device:GPU:0\n",
      "  embeddings/decoder/embedding_decoder:0, (17191, 512), /device:GPU:0\n",
      "  dynamic_seq2seq/encoder/rnn/basic_lstm_cell/kernel:0, (1024, 2048), /device:GPU:0\n",
      "  dynamic_seq2seq/encoder/rnn/basic_lstm_cell/bias:0, (2048,), /device:GPU:0\n",
      "  dynamic_seq2seq/decoder/lstm_cell_with_dot_product_attention/kernel:0, (1024, 2048), /device:GPU:0\n",
      "  dynamic_seq2seq/decoder/lstm_cell_with_dot_product_attention/bias:0, (2048,), /device:GPU:0\n",
      "  dynamic_seq2seq/decoder/lstm_cell_with_dot_product_attention/W_c:0, (1024, 256), /device:GPU:0\n",
      "  dynamic_seq2seq/decoder/output_projection/kernel:0, (256, 17191), \n"
     ]
    }
   ],
   "source": [
    "model_creator = AttentionalModel\n",
    "infer_model = model_helper.create_infer_model(model_creator, hparams, scope)"
   ]
  },
  {
   "cell_type": "code",
   "execution_count": 11,
   "metadata": {},
   "outputs": [],
   "source": [
    "# Preload data for sample decoding.\n",
    "dev_src_file = \"%s.%s\" % (hparams.dev_prefix, hparams.src)\n",
    "dev_tgt_file = \"%s.%s\" % (hparams.dev_prefix, hparams.tgt)\n",
    "sample_src_data = inference.load_data(dev_src_file)\n",
    "sample_tgt_data = inference.load_data(dev_tgt_file)\n",
    "\n",
    "model_dir = hparams.out_dir"
   ]
  },
  {
   "cell_type": "code",
   "execution_count": 12,
   "metadata": {},
   "outputs": [],
   "source": [
    "# TensorFlow model\n",
    "config_proto = utils.get_config_proto(\n",
    "  log_device_placement=log_device_placement,\n",
    "  num_intra_threads=hparams.num_intra_threads,\n",
    "  num_inter_threads=hparams.num_inter_threads)\n",
    "infer_sess = tf.Session(\n",
    "  target=target_session, config=config_proto, graph=infer_model.graph)"
   ]
  },
  {
   "cell_type": "code",
   "execution_count": 61,
   "metadata": {},
   "outputs": [
    {
     "name": "stdout",
     "output_type": "stream",
     "text": [
      "INFO:tensorflow:Restoring parameters from nmt_model_dotprodatt/translate.ckpt-12000\n",
      "  loaded infer model parameters from nmt_model_dotprodatt/translate.ckpt-12000, time 0.08s\n",
      "  # 927\n",
      "    src: Hiện tại tôi làm việc trong ngành công nghiệp năng lượng mặt trời .\n",
      "    ref: Now I work in the solar technology industry .\n",
      "    nmt: Now I work in solar industry .\n"
     ]
    }
   ],
   "source": [
    "run_sample_decode(infer_model, infer_sess,\n",
    "                        model_dir, hparams, sample_src_data,\n",
    "                        sample_tgt_data)"
   ]
  },
  {
   "cell_type": "code",
   "execution_count": null,
   "metadata": {},
   "outputs": [],
   "source": [
    "[[[0.0840193406][0.190338716][0.533165097][0.0874509][0.0676413][0.00807091594][0.00161030609][0.00111503887][0.000931647199][0.000566977251][0.000944232394][0.00140267133][0.0124362875][0.0103065902]]\n",
    "[[0.00804786198][0.0217310451][0.874472857][0.0236717518][0.0456302576][0.00722790556][0.00247577112][0.00198398018][0.000963972][0.000875130645][0.00166767661][0.00125604554][0.00881466735][0.00118113111]]\n",
    "[[0.0121418471][0.0103726387][0.0181948971][0.226083338][0.648831487][0.0393517949][0.0309775677][0.00487296749][0.00200056564][0.00178571814][0.00226611877][0.00127268699][0.000835115789][0.00101323705]]\n",
    "[[0.00834437367][0.0237123203][0.0147254951][0.021609677][0.152907819][0.62871021][0.0542027764][0.00867951382][0.00661987392][0.0193492714][0.0159173179][0.0217176881][0.0208468735][0.00265678624]]\n",
    "[[0.00148338405][0.000618223392][0.000273195357][0.0006839782][0.00215626601][0.00160297472][0.00181700068][0.0226691216][0.037184272][0.048885148][0.425939441][0.360947341][0.0951956][0.000544058392]]\n",
    "[[0.00199879124][0.00219343347][0.00044669339][0.000468273531][0.00332005][0.000940420199][0.0640797392][0.136126772][0.598374367][0.0520433933][0.124235965][0.0094546238][0.00445094053][0.0018664581]]\n",
    "[[0.0172098447][0.166985616][0.0141933896][0.0179880895][0.0659823939][0.0175693743][0.020267155][0.00189624855][0.016407337][0.00604771962][0.0164372623][0.139828131][0.0509688072][0.448218584]]\n",
    "[[0.0820801705][0.18350789][0.484996617][0.00938066654][0.0641990155][0.0260316692][0.00948721357][0.00421708217][0.00490227761][0.00256767194][0.0026750972][0.00860086177][0.0361012891][0.0812525153]]]"
   ]
  },
  {
   "cell_type": "markdown",
   "metadata": {},
   "source": [
    "Use scores_parser script to parse the scores"
   ]
  },
  {
   "cell_type": "code",
   "execution_count": 25,
   "metadata": {},
   "outputs": [],
   "source": [
    "scores = np.array([[0.0840193406,0.190338716,0.533165097,0.0874509,0.0676413,0.00807091594,0.00161030609,0.00111503887,0.000931647199,0.000566977251,0.000944232394,0.00140267133,0.0124362875,0.0103065902],\n",
    "[0.00804786198,0.0217310451,0.874472857,0.0236717518,0.0456302576,0.00722790556,0.00247577112,0.00198398018,0.000963972,0.000875130645,0.00166767661,0.00125604554,0.00881466735,0.00118113111],\n",
    "[0.0121418471,0.0103726387,0.0181948971,0.226083338,0.648831487,0.0393517949,0.0309775677,0.00487296749,0.00200056564,0.00178571814,0.00226611877,0.00127268699,0.000835115789,0.00101323705],\n",
    "[0.00834437367,0.0237123203,0.0147254951,0.021609677,0.152907819,0.62871021,0.0542027764,0.00867951382,0.00661987392,0.0193492714,0.0159173179,0.0217176881,0.0208468735,0.00265678624],\n",
    "[0.00148338405,0.000618223392,0.000273195357,0.0006839782,0.00215626601,0.00160297472,0.00181700068,0.0226691216,0.037184272,0.048885148,0.425939441,0.360947341,0.0951956,0.000544058392],\n",
    "[0.00199879124,0.00219343347,0.00044669339,0.000468273531,0.00332005,0.000940420199,0.0640797392,0.136126772,0.598374367,0.0520433933,0.124235965,0.0094546238,0.00445094053,0.0018664581],\n",
    "[0.0172098447,0.166985616,0.0141933896,0.0179880895,0.0659823939,0.0175693743,0.020267155,0.00189624855,0.016407337,0.00604771962,0.0164372623,0.139828131,0.0509688072,0.448218584],\n",
    "[0.0820801705,0.18350789,0.484996617,0.00938066654,0.0641990155,0.0260316692,0.00948721357,0.00421708217,0.00490227761,0.00256767194,0.0026750972,0.00860086177,0.0361012891,0.0812525153]])"
   ]
  },
  {
   "cell_type": "code",
   "execution_count": 27,
   "metadata": {},
   "outputs": [
    {
     "data": {
      "image/png": "[encoded data removed]",
      "text/plain": [
       "<Figure size 1440x1440 with 1 Axes>"
      ]
     },
     "metadata": {},
     "output_type": "display_data"
    }
   ],
   "source": [
    "fig, ax1 = plt.subplots(1,1,figsize=(20, 20))\n",
    "ax1.imshow(scores, cmap='hot')\n",
    "ax1.set_yticklabels([\"\",\"Now\",\"I\",\"work\",\"in\",\"solar\",\"industry\",'.',\"</s>\"],fontsize=20)\n",
    "ax1.set_xticks(np.arange(0, 14, 1))\n",
    "ax1.set_xticklabels([\"Hiện\",\"tại\",\"tôi\",\"làm\",\"việc\",\"trong\",\"ngành\",\"công\",\"nghiệp\",\"năng\",\"lượng\",\"mặt\",\"trời\",'.'],fontsize=20)\n",
    "plt.show()\n",
    "fig.savefig(\"./heatmap/heatmap1.png\")"
   ]
  },
  {
   "cell_type": "code",
   "execution_count": 112,
   "metadata": {},
   "outputs": [
    {
     "name": "stdout",
     "output_type": "stream",
     "text": [
      "INFO:tensorflow:Restoring parameters from nmt_model_dotprodatt/translate.ckpt-12000\n",
      "  loaded infer model parameters from nmt_model_dotprodatt/translate.ckpt-12000, time 0.08s\n",
      "  # 608\n",
      "    src: nhưng bạn biết điều gì không ?\n",
      "    ref: But you know what ?\n",
      "    nmt: But you know what ?\n"
     ]
    }
   ],
   "source": [
    "run_sample_decode(infer_model, infer_sess,\n",
    "                        model_dir, hparams, sample_src_data,\n",
    "                        sample_tgt_data)"
   ]
  },
  {
   "cell_type": "code",
   "execution_count": null,
   "metadata": {},
   "outputs": [],
   "source": [
    "[[[0.283267766][0.594901919][0.0403833464][0.00762861595][0.0245306864][0.0102527747][0.0390349366]]]\n",
    "[[[0.0310722124][0.565596521][0.193239272][0.0346842334][0.124393061][0.021283811][0.0297308378]]]\n",
    "[[[0.0692473128][0.0235723983][0.877542794][0.00330158486][0.010057901][0.0135178613][0.00276016]]]\n",
    "[[[0.0276958216][0.0173921362][0.0177939888][0.10705968][0.754455686][0.0309311803][0.0446715057]]]\n",
    "[[[0.038722042][0.0135365753][0.013384602][0.191705793][0.112811282][0.214509353][0.41533041]]]\n",
    "[[[0.0449456125][0.590600193][0.0338435508][0.00850865711][0.0961521193][0.198730052][0.0272198617]]]"
   ]
  },
  {
   "cell_type": "code",
   "execution_count": 23,
   "metadata": {},
   "outputs": [],
   "source": [
    "scores2 = np.array([[0.283267766,0.594901919,0.0403833464,0.00762861595,0.0245306864,0.0102527747,0.0390349366],\n",
    "[0.0310722124,0.565596521,0.193239272,0.0346842334,0.124393061,0.021283811,0.0297308378],\n",
    "[0.0692473128,0.0235723983,0.877542794,0.00330158486,0.010057901,0.0135178613,0.00276016],\n",
    "[0.0276958216,0.0173921362,0.0177939888,0.10705968,0.754455686,0.0309311803,0.0446715057],\n",
    "[0.038722042,0.0135365753,0.013384602,0.191705793,0.112811282,0.214509353,0.41533041],\n",
    "[0.0449456125,0.590600193,0.0338435508,0.00850865711,0.0961521193,0.198730052,0.0272198617]])"
   ]
  },
  {
   "cell_type": "code",
   "execution_count": 28,
   "metadata": {},
   "outputs": [
    {
     "data": {
      "image/png": "[encoded data removed]",
      "text/plain": [
       "<Figure size 1440x1440 with 1 Axes>"
      ]
     },
     "metadata": {},
     "output_type": "display_data"
    }
   ],
   "source": [
    "fig, ax1 = plt.subplots(1,1,figsize=(20, 20))\n",
    "ax1.imshow(scores2, cmap='hot')\n",
    "ax1.set_yticklabels([\"\",\"But\",\"you\",\"know\",\"what\",\"?\",\"</s>\"],fontsize=20)\n",
    "ax1.set_xticks(np.arange(0, 7, 1))\n",
    "ax1.set_xticklabels([\"nhưng\",\"bạn\",\"biết\",\"điều\",\"gì\",\"không\",\"?\"],fontsize=20)\n",
    "plt.show()\n",
    "fig.savefig(\"./heatmap/heatmap2.png\")"
   ]
  }
 ],
 "metadata": {
  "kernelspec": {
   "display_name": "Python 3",
   "language": "python",
   "name": "python3"
  },
  "language_info": {
   "codemirror_mode": {
    "name": "ipython",
    "version": 3
   },
   "file_extension": ".py",
   "mimetype": "text/x-python",
   "name": "python",
   "nbconvert_exporter": "python",
   "pygments_lexer": "ipython3",
   "version": "3.5.2"
  }
 },
 "nbformat": 4,
 "nbformat_minor": 2
}
